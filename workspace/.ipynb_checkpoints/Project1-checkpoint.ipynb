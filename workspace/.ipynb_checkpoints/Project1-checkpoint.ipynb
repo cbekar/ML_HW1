{
 "cells": [
  {
   "cell_type": "markdown",
   "metadata": {},
   "source": [
    "Part 0: Feature Generation"
   ]
  },
  {
   "cell_type": "code",
   "execution_count": 2,
   "metadata": {},
   "outputs": [],
   "source": [
    "import numpy as np\n",
    "import pandas as pd \n",
    "import seaborn as sns\n",
    "import matplotlib.pyplot as plt\n",
    "import featuretools as ft\n",
    "import businesstime\n",
    "import datetime\n",
    "import warnings\n",
    "import time\n",
    "import os\n",
    "from sklearn.exceptions import DataConversionWarning\n",
    "from subprocess import check_output\n",
    "from pandas.plotting import scatter_matrix\n",
    "from businesstime.holidays.usa import USFederalHolidays\n",
    "from sklearn import preprocessing\n",
    "import ipdb \n",
    "#ipdb.set_trace()\n",
    "warnings.filterwarnings(action='ignore', category=DataConversionWarning)\n",
    "warnings.simplefilter(action='ignore', category=FutureWarning)\n",
    "\"\"\"\n",
    "\" HyperParams\n",
    "\"\"\"\n",
    "generateDataFlag = True\n",
    "generateFeaturesFlag = True\n",
    "windowSizeGrid = [3,5,10,30,60]\n",
    "windowSize = windowSizeGrid[0]\n",
    "visualizeFlag = False\n",
    "\n",
    "def dataGen(data):\n",
    "    if 'FLAG_BusinessHour' not in data.columns:\n",
    "        bt = businesstime.BusinessTime(business_hours = (datetime.time(9), datetime.time(18)),\\\n",
    "                                       weekends=(5, 6), holidays=USFederalHolidays())\n",
    "        dates, isBD = [],[]\n",
    "        for row in data.itertuples(index=True, name='Pandas'):\n",
    "            dates.append(getattr(row, \"date\"))\n",
    "        for row in dates:\n",
    "            boo = bt.isduringbusinesshours(datetime.datetime.strptime(row, '%Y-%m-%d %H:%M:%S'))\n",
    "            isBD.append(1) if boo else isBD.append(0)\n",
    "        data.insert(0, \"FLAG_BusinessHour\", isBD, True)\n",
    "        data['LOG_CO2'] = np.log(data['CO2'])\n",
    "        data['LOG_HR'] = np.log(data['HumidityRatio'])\n",
    "        data['GRAD_CO2'] = np.clip(np.gradient(data['CO2'].rolling(window=windowSize).mean()),-10,10)\n",
    "        data['GRAD_HR'] = np.clip(np.gradient(data['HumidityRatio'].rolling(window=windowSize).mean()),-10,10)\n",
    "        data['HRCO2'] = data['HumidityRatio']*data['CO2']\n",
    "        data['GRAD_HRCO2'] = np.clip(np.gradient(data['HRCO2'].rolling(window=windowSize).mean()),-10,10)\n",
    "        data['index'] = data.index\n",
    "        data.drop(\"Occupancy\", axis=1, inplace=True)\n",
    "    return data\n",
    "\n",
    "def entitySet(data):\n",
    "    es = ft.EntitySet('sensor')\n",
    "    es = es.entity_from_dataframe(index='index', entity_id='log', \\\n",
    "                                  dataframe = data, \\\n",
    "                                  variable_types={f: ft.variable_types.Categorical \n",
    "                                                  for f in data.columns if f.startswith('FLAG_')\n",
    "                                                 })\n",
    "    return es\n",
    "\n",
    "def featureGen(data):\n",
    "    es = entitySet(data)\n",
    "    fm, feature_defs = ft.dfs(\n",
    "        entityset=es, \n",
    "        target_entity='log', \n",
    "        #features_only=True,\n",
    "        trans_primitives=['hour', 'day', 'weekday', 'percentile'],\n",
    "        verbose=True,\n",
    "        #training_window=\"12 hours\"\n",
    "    )\n",
    "    fm['RMEAN_CO2'] = data['CO2'].rolling(window=windowSize).mean()\n",
    "    fm['RMEAN_HR'] = data['HumidityRatio'].rolling(window=windowSize).mean()\n",
    "    fm.fillna(method='bfill', inplace=True)\n",
    "    return fm\n",
    "\n",
    "for windowSize in windowSizeGrid:\n",
    "    dataReady = True if os.path.isfile('../output/trainingWS' + str(windowSize) + '.csv') else False\n",
    "\n",
    "    if dataReady:\n",
    "        fm_train = pd.read_csv('../output/trainingWS' + str(windowSize) + '.csv')\n",
    "        fm_test = pd.read_csv('../output/testWS' + str(windowSize) + '.csv')\n",
    "        fm_test2 = pd.read_csv('../output/test2WS' + str(windowSize) + '.csv')\n",
    "        data_y = pd.read_csv('../output/trainingTarget.csv')['Occupancy']\n",
    "        vald_y = pd.read_csv('../output/testTarget.csv')['Occupancy']\n",
    "        test_y = pd.read_csv('../output/test2Target.csv')['Occupancy']\n",
    "    else:\n",
    "        data = pd.read_csv('../input/datatraining.txt')\n",
    "        val = pd.read_csv('../input/datatest.txt')\n",
    "        test = pd.read_csv('../input/datatest2.txt')\n",
    "        data_y = data['Occupancy']\n",
    "        vald_y = val['Occupancy']\n",
    "        test_y = test['Occupancy']\n",
    "\n",
    "        if generateDataFlag:\n",
    "            data_x = dataGen(data)\n",
    "            vald_x = dataGen(val)\n",
    "            test_x = dataGen(test)\n",
    "        else:\n",
    "            data_x = data\n",
    "            vald_x = val\n",
    "            test_x = test\n",
    "\n",
    "        if generateFeaturesFlag:\n",
    "            dates    = data_x.date\n",
    "            fm_train = featureGen(data_x).drop(['Humidity'],axis=1)\n",
    "            fm_test  = featureGen(vald_x).drop(['Humidity'],axis=1)\n",
    "            fm_test2 = featureGen(test_x).drop(['Humidity'],axis=1)\n",
    "        else:\n",
    "            #fm_train = data_x.drop(['date','time','index','Humidity'],axis=1)\n",
    "            fm_train = data_x.drop(['time','index','Humidity'],axis=1)\n",
    "            #fm_test  = vald_x.drop(['date','time','index','Humidity'],axis=1)\n",
    "            fm_test  = vald_x.drop(['time','index','Humidity'],axis=1)\n",
    "            #fm_test2 = test_x.drop(['date','time','index','Humidity'],axis=1)\n",
    "            fm_test2 = test_x.drop(['time','index','Humidity'],axis=1)\n",
    "        \n",
    "        dates = dates.drop(data.index[3830:3834])\n",
    "        fm_train = fm_train.drop(data.index[3830:3834]) # light anomaly detected, drop rows\n",
    "        data_y = data_y.drop(data.index[3830:3834]) # light anomaly detected, drop rows\n",
    "        \n",
    "        fm_train.to_csv('../output/trainingWS' + str(windowSize) + '.csv', index=False)\n",
    "        fm_test.to_csv('../output/testWS' + str(windowSize) + '.csv', index=False)\n",
    "        fm_test2.to_csv('../output/test2WS' + str(windowSize) + '.csv', index=False)\n",
    "        data_y.to_csv('../output/trainingTarget.csv', index=False, header='Occupancy')\n",
    "        vald_y.to_csv('../output/testTarget.csv', index=False, header='Occupancy')\n",
    "        test_y.to_csv('../output/test2Target.csv', index=False, header='Occupancy')"
   ]
  },
  {
   "cell_type": "markdown",
   "metadata": {},
   "source": [
    "Part I: Data Visualisation"
   ]
  },
  {
   "cell_type": "code",
   "execution_count": 3,
   "metadata": {
    "scrolled": true
   },
   "outputs": [
    {
     "name": "stdout",
     "output_type": "stream",
     "text": [
      "Visualization has been skipped!\n"
     ]
    }
   ],
   "source": [
    "if visualizeFlag:\n",
    "    ax = sns.countplot(data_y,label=\"Count\")\n",
    "    E, O = data_y.value_counts()\n",
    "    print('Number of Occupied: ', O)\n",
    "    print('Number of Empty: ', E)\n",
    "    plt.figure(figsize=(15,15)) # labels are badly skewed, need stratified sampling\n",
    "\n",
    "    stdscaler = preprocessing.StandardScaler()\n",
    "    minmaxscaler = preprocessing.MinMaxScaler()\n",
    "    data_n_2 = pd.DataFrame(stdscaler.fit_transform(fm_train), columns=fm_train.columns)\n",
    "    data = pd.concat([data_y,data_n_2],axis=1)\n",
    "    data = pd.melt(data,id_vars=\"Occupancy\",\n",
    "                        var_name=\"features\",\n",
    "                        value_name='value')\n",
    "    sns.violinplot(x=\"features\", y=\"value\", hue=\"Occupancy\", data=data,split=True, inner=\"quart\")\n",
    "    plt.xticks(rotation=90)\n",
    "    plt.figure(figsize=(15,15))\n",
    "    sns.boxplot(x=\"features\", y=\"value\", hue=\"Occupancy\", data=data)\n",
    "    plt.xticks(rotation=90)\n",
    "\n",
    "    scatter_matrix(data_n_2, c=data_y, alpha=0.2, figsize=(50,50), diagonal='density')\n",
    "    fig = plt.gcf()\n",
    "    fig.savefig('../output/scattermatrix.png',bbox_inches='tight',pad_inches=0.1) \n",
    "\n",
    "    plt.style.use('seaborn-dark-palette')\n",
    "    plt.figure(figsize=(18, 18))\n",
    "    sns.heatmap(data_n_2.corr(), annot=True, linewidths=.5, fmt= '.1f')\n",
    "else:\n",
    "    print('Visualization has been skipped!')"
   ]
  },
  {
   "cell_type": "markdown",
   "metadata": {},
   "source": [
    "Part II: Regular RF Pipeline with Support Vector Feature Selection"
   ]
  },
  {
   "cell_type": "code",
   "execution_count": 4,
   "metadata": {},
   "outputs": [
    {
     "name": "stdout",
     "output_type": "stream",
     "text": [
      "Mean validation score: 0.994 (std: 0.00331)\n",
      "Accuracy of test1 is:  0.9759849906191369\n",
      "Accuracy of test2 is:  0.9850287120590648\n"
     ]
    },
    {
     "data": {
      "text/plain": [
       "<matplotlib.axes._subplots.AxesSubplot at 0x7f64e76d2668>"
      ]
     },
     "execution_count": 4,
     "metadata": {},
     "output_type": "execute_result"
    },
    {
     "data": {
      "image/png": "[encoded data removed]",
      "text/plain": [
       "<Figure size 432x288 with 2 Axes>"
      ]
     },
     "metadata": {
      "needs_background": "light"
     },
     "output_type": "display_data"
    },
    {
     "data": {
      "image/png": "[encoded data removed]",
      "text/plain": [
       "<Figure size 432x288 with 2 Axes>"
      ]
     },
     "metadata": {
      "needs_background": "light"
     },
     "output_type": "display_data"
    }
   ],
   "source": [
    "from sklearn.pipeline import Pipeline\n",
    "from sklearn.model_selection import StratifiedKFold\n",
    "from sklearn.svm import LinearSVC\n",
    "from sklearn.ensemble import RandomForestClassifier\n",
    "from sklearn.metrics import confusion_matrix,accuracy_score,f1_score\n",
    "from sklearn.feature_selection import SelectFromModel,SelectKBest,chi2,mutual_info_classif\n",
    "from functools import partial\n",
    "from sklearn.model_selection import cross_val_score\n",
    "\n",
    "cv = StratifiedKFold(n_splits = 10, shuffle=True)\n",
    "clf = Pipeline([\n",
    "        ('scale', preprocessing.StandardScaler()),\n",
    "        ('feature_selection', SelectFromModel(LinearSVC(C=0.1,penalty=\"l1\",dual=False))),\n",
    "        ('classification', RandomForestClassifier())\n",
    "    ])\n",
    "score = cross_val_score(clf, fm_train, data_y, cv=cv)\n",
    "print(\"Mean validation score: {0:.3f} (std: {1:.5f})\".format(np.mean(score),np.std(score)))\n",
    "clf.fit(fm_train, data_y)\n",
    "\n",
    "x_test, y_test = fm_test, vald_y\n",
    "ac = accuracy_score(y_test,clf.predict(x_test))\n",
    "print('Accuracy of test1 is: ', ac)\n",
    "cm = confusion_matrix(y_test,clf.predict(x_test))\n",
    "sns.heatmap(cm, annot=True, fmt=\"d\")\n",
    "\n",
    "plt.figure()\n",
    "x_test, y_test = fm_test2, test_y\n",
    "ac = accuracy_score(y_test,clf.predict(x_test))\n",
    "print('Accuracy of test2 is: ', ac)\n",
    "cm = confusion_matrix(y_test,clf.predict(x_test))\n",
    "sns.heatmap(cm, annot=True, fmt=\"d\")"
   ]
  },
  {
   "cell_type": "markdown",
   "metadata": {},
   "source": [
    "%99 accuracy is easily matched with RF methods, however, in the literature we have seen less varianced accuracies with other ML methods. Let's save the dataframes here and search for a better approach with autoML (TPOT), semi-autoML with hyperparameter search. "
   ]
  },
  {
   "cell_type": "markdown",
   "metadata": {},
   "source": [
    "Part III: TPOT"
   ]
  },
  {
   "cell_type": "code",
   "execution_count": 7,
   "metadata": {},
   "outputs": [
    {
     "name": "stdout",
     "output_type": "stream",
     "text": [
      "\n",
      "\n",
      "TPOT closed during evaluation in one generation.\n",
      "WARNING: TPOT may not provide a good pipeline if TPOT is stopped/interrupted in a early generation.\n",
      "\n",
      "\n",
      "TPOT closed prematurely. Will use the current best pipeline.\n",
      "Best pipeline: ExtraTreesClassifier(PCA(input_matrix, iterated_power=1, svd_solver=randomized), bootstrap=True, criterion=gini, max_features=0.3, min_samples_leaf=10, min_samples_split=11, n_estimators=100)\n",
      "Test set one:\n",
      "0.9654784240150094\n",
      "Test set two:\n",
      "0.8888433141919606\n"
     ]
    }
   ],
   "source": [
    "import matplotlib\n",
    "import matplotlib.pyplot as plt\n",
    "import datetime as dt\n",
    "import matplotlib.dates as mdates\n",
    "from sklearn.preprocessing import scale\n",
    "from tpot import TPOTClassifier\n",
    "\n",
    "tpot = TPOTClassifier(generations = 10 , population_size = 5, verbosity = 3)\n",
    "tpot.fit(fm_train, data_y)\n",
    "\n",
    "print(\"Test set one:\")\n",
    "print(tpot.score(fm_test, vald_y))\n",
    "\n",
    "print(\"Test set two:\")\n",
    "print(tpot.score(fm_test2, test_y))\n",
    "\n",
    "tpot.export('od_pipeline.py')"
   ]
  },
  {
   "cell_type": "code",
   "execution_count": 6,
   "metadata": {},
   "outputs": [
    {
     "name": "stdout",
     "output_type": "stream",
     "text": [
      "0.9933347005742412\n"
     ]
    }
   ],
   "source": [
    "import pandas as pd\n",
    "from sklearn.model_selection import train_test_split\n",
    "from xgboost import XGBClassifier\n",
    "\n",
    "# Average CV score on the training set was:0.9761803482741929\n",
    "exported_pipeline = XGBClassifier(learning_rate=0.001, max_depth=3, min_child_weight=16, n_estimators=100, nthread=1, subsample=0.4)\n",
    "\n",
    "exported_pipeline.fit(fm_train, data_y)\n",
    "print(exported_pipeline.score(fm_test2, test_y))"
   ]
  },
  {
   "cell_type": "code",
   "execution_count": null,
   "metadata": {},
   "outputs": [],
   "source": []
  },
  {
   "cell_type": "code",
   "execution_count": null,
   "metadata": {},
   "outputs": [],
   "source": []
  },
  {
   "cell_type": "code",
   "execution_count": null,
   "metadata": {},
   "outputs": [],
   "source": []
  },
  {
   "cell_type": "code",
   "execution_count": null,
   "metadata": {},
   "outputs": [],
   "source": []
  }
 ],
 "metadata": {
  "kernelspec": {
   "display_name": "Python 3",
   "language": "python",
   "name": "python3"
  },
  "language_info": {
   "codemirror_mode": {
    "name": "ipython",
    "version": 3
   },
   "file_extension": ".py",
   "mimetype": "text/x-python",
   "name": "python",
   "nbconvert_exporter": "python",
   "pygments_lexer": "ipython3",
   "version": "3.7.1"
  }
 },
 "nbformat": 4,
 "nbformat_minor": 2
}
