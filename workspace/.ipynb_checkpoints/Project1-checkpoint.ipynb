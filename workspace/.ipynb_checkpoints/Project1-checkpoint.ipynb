{
 "cells": [
  {
   "cell_type": "markdown",
   "metadata": {},
   "source": [
    "Part 0: Feature Generation"
   ]
  },
  {
   "cell_type": "code",
   "execution_count": 43,
   "metadata": {},
   "outputs": [],
   "source": [
    "import numpy as np\n",
    "import pandas as pd \n",
    "import seaborn as sns\n",
    "import matplotlib.pyplot as plt\n",
    "import featuretools as ft\n",
    "import businesstime\n",
    "import datetime\n",
    "import warnings\n",
    "import time\n",
    "import os\n",
    "from sklearn.exceptions import DataConversionWarning\n",
    "from subprocess import check_output\n",
    "from pandas.plotting import scatter_matrix\n",
    "from businesstime.holidays.usa import USFederalHolidays\n",
    "from sklearn import preprocessing\n",
    "import ipdb \n",
    "#ipdb.set_trace()\n",
    "warnings.filterwarnings(action='ignore', category=DataConversionWarning)\n",
    "warnings.simplefilter(action='ignore', category=FutureWarning)\n",
    "\"\"\"\n",
    "\" HyperParams\n",
    "\"\"\"\n",
    "generateDataFlag = True\n",
    "generateFeaturesFlag = True\n",
    "windowSizeGrid = [2,3,4,5,6,7,8,9,10,15,30,60]\n",
    "windowSize = windowSizeGrid[0]\n",
    "visualizeFlag = False\n",
    "\n",
    "def dataGen(data):\n",
    "    if 'FLAG_BusinessHour' not in data.columns:\n",
    "        bt = businesstime.BusinessTime(business_hours = (datetime.time(9), datetime.time(18)),\\\n",
    "                                       weekends=(5, 6), holidays=USFederalHolidays())\n",
    "        dates, isBD = [],[]\n",
    "        for row in data.itertuples(index=True, name='Pandas'):\n",
    "            dates.append(getattr(row, \"date\"))\n",
    "        for row in dates:\n",
    "            boo = bt.isduringbusinesshours(datetime.datetime.strptime(row, '%Y-%m-%d %H:%M:%S'))\n",
    "            isBD.append(1) if boo else isBD.append(0)\n",
    "        data.insert(0, \"FLAG_BusinessHour\", isBD, True)\n",
    "        data['GRAD_CO2'] = np.clip(np.gradient(data['CO2'].rolling(window=windowSize).mean()),-10,10)\n",
    "        data['GRAD_HR'] = np.clip(np.gradient(data['HumidityRatio'].rolling(window=windowSize).mean()),-10,10)\n",
    "        data['HRCO2'] = data['HumidityRatio']*data['CO2']\n",
    "        data['GRAD_HRCO2'] = np.clip(np.gradient(data['HRCO2'].rolling(window=windowSize).mean()),-10,10)\n",
    "        data['index'] = data.index\n",
    "        data.drop(\"Occupancy\", axis=1, inplace=True)\n",
    "    return data\n",
    "\n",
    "def entitySet(data):\n",
    "    es = ft.EntitySet('sensor')\n",
    "    es = es.entity_from_dataframe(index='index', entity_id='log', \\\n",
    "                                  dataframe = data, \\\n",
    "                                  variable_types={f: ft.variable_types.Categorical \n",
    "                                                  for f in data.columns if f.startswith('FLAG_')\n",
    "                                                 })\n",
    "    return es\n",
    "\n",
    "def featureGen(data):\n",
    "    es = entitySet(data)\n",
    "    fm, feature_defs = ft.dfs(\n",
    "        entityset=es, \n",
    "        target_entity='log', \n",
    "        #features_only=True,\n",
    "        trans_primitives=['hour', 'day', 'weekday', 'percentile'],\n",
    "        verbose=True,\n",
    "        #training_window=\"12 hours\"\n",
    "    )\n",
    "    fm['RMEAN_CO2'] = data['CO2'].rolling(window=windowSize).mean()\n",
    "    fm['RMEAN_HR'] = data['HumidityRatio'].rolling(window=windowSize).mean()\n",
    "    fm.fillna(method='bfill', inplace=True)\n",
    "    return fm\n",
    "\n",
    "for windowSize in windowSizeGrid:\n",
    "    dataReady = True if os.path.isfile('../output/trainingWS' + str(windowSize) + '.csv') else False\n",
    "\n",
    "    if dataReady:\n",
    "        fm_train = pd.read_csv('../output/trainingWS' + str(windowSize) + '.csv')\n",
    "        fm_test = pd.read_csv('../output/testWS' + str(windowSize) + '.csv')\n",
    "        fm_test2 = pd.read_csv('../output/test2WS' + str(windowSize) + '.csv')\n",
    "        data_y = pd.read_csv('../output/trainingTarget.csv')['Occupancy']\n",
    "        vald_y = pd.read_csv('../output/testTarget.csv')['Occupancy']\n",
    "        test_y = pd.read_csv('../output/test2Target.csv')['Occupancy']\n",
    "    else:\n",
    "        data = pd.read_csv('../input/datatraining.txt')\n",
    "        val = pd.read_csv('../input/datatest.txt')\n",
    "        test = pd.read_csv('../input/datatest2.txt')\n",
    "        data_y = data['Occupancy']\n",
    "        vald_y = val['Occupancy']\n",
    "        test_y = test['Occupancy']\n",
    "\n",
    "        if generateDataFlag:\n",
    "            data_x = dataGen(data)\n",
    "            vald_x = dataGen(val)\n",
    "            test_x = dataGen(test)\n",
    "        else:\n",
    "            data_x = data\n",
    "            vald_x = val\n",
    "            test_x = test\n",
    "\n",
    "        if generateFeaturesFlag:\n",
    "            fm_train = featureGen(data_x).drop(['Humidity'],axis=1)\n",
    "            fm_test  = featureGen(vald_x).drop(['Humidity'],axis=1)\n",
    "            fm_test2 = featureGen(test_x).drop(['Humidity'],axis=1)\n",
    "        else:\n",
    "            fm_train = data_x.drop(['date','time','index','Humidity'],axis=1)\n",
    "            fm_test  = vald_x.drop(['date','time','index','Humidity'],axis=1)\n",
    "            fm_test2 = test_x.drop(['date','time','index','Humidity'],axis=1)\n",
    "\n",
    "        fm_train = fm_train.drop(data.index[3830:3834]) # light anomaly detected, drop rows\n",
    "        data_y = data_y.drop(data.index[3830:3834]) # light anomaly detected, drop rows\n",
    "        \n",
    "        fm_train.to_csv('../output/trainingWS' + str(windowSize) + '.csv', index=False)\n",
    "        fm_test.to_csv('../output/testWS' + str(windowSize) + '.csv', index=False)\n",
    "        fm_test2.to_csv('../output/test2WS' + str(windowSize) + '.csv', index=False)\n",
    "        data_y.to_csv('../output/trainingTarget.csv', index=False, header='Occupancy')\n",
    "        vald_y.to_csv('../output/testTarget.csv', index=False, header='Occupancy')\n",
    "        test_y.to_csv('../output/test2Target.csv', index=False, header='Occupancy')"
   ]
  },
  {
   "cell_type": "markdown",
   "metadata": {},
   "source": [
    "Part I: Data Visualisation"
   ]
  },
  {
   "cell_type": "code",
   "execution_count": 44,
   "metadata": {
    "scrolled": true
   },
   "outputs": [
    {
     "name": "stdout",
     "output_type": "stream",
     "text": [
      "Visualization has been skipped!\n"
     ]
    }
   ],
   "source": [
    "if visualizeFlag:\n",
    "    ax = sns.countplot(data_y,label=\"Count\")\n",
    "    E, O = data_y.value_counts()\n",
    "    print('Number of Occupied: ', O)\n",
    "    print('Number of Empty: ', E)\n",
    "    plt.figure(figsize=(15,15)) # labels are badly skewed, need stratified sampling\n",
    "\n",
    "    stdscaler = preprocessing.StandardScaler()\n",
    "    minmaxscaler = preprocessing.MinMaxScaler()\n",
    "    data_n_2 = pd.DataFrame(stdscaler.fit_transform(fm_train), columns=fm_train.columns)\n",
    "    data = pd.concat([data_y,data_n_2],axis=1)\n",
    "    data = pd.melt(data,id_vars=\"Occupancy\",\n",
    "                        var_name=\"features\",\n",
    "                        value_name='value')\n",
    "    sns.violinplot(x=\"features\", y=\"value\", hue=\"Occupancy\", data=data,split=True, inner=\"quart\")\n",
    "    plt.xticks(rotation=90)\n",
    "    plt.figure(figsize=(15,15))\n",
    "    sns.boxplot(x=\"features\", y=\"value\", hue=\"Occupancy\", data=data)\n",
    "    plt.xticks(rotation=90)\n",
    "\n",
    "    scatter_matrix(data_n_2, c=data_y, alpha=0.2, figsize=(50,50), diagonal='density')\n",
    "    fig = plt.gcf()\n",
    "    fig.savefig('../output/scattermatrix.png',bbox_inches='tight',pad_inches=0.1) \n",
    "\n",
    "    plt.style.use('seaborn-dark-palette')\n",
    "    plt.figure(figsize=(18, 18))\n",
    "    sns.heatmap(data_n_2.corr(), annot=True, linewidths=.5, fmt= '.1f')\n",
    "else:\n",
    "    print('Visualization has been skipped!')"
   ]
  },
  {
   "cell_type": "code",
   "execution_count": 89,
   "metadata": {},
   "outputs": [
    {
     "data": {
      "text/plain": [
       "array([1, 1, 0, ..., 1, 1, 1])"
      ]
     },
     "execution_count": 89,
     "metadata": {},
     "output_type": "execute_result"
    }
   ],
   "source": [
    "clf.fit(fm_test,vald_y)\n",
    "clf.predict(fm_test)"
   ]
  },
  {
   "cell_type": "markdown",
   "metadata": {},
   "source": [
    "Part IIa: Regular RF Pipeline with Support Vector Feature Selection"
   ]
  },
  {
   "cell_type": "code",
   "execution_count": 104,
   "metadata": {},
   "outputs": [
    {
     "name": "stdout",
     "output_type": "stream",
     "text": [
      "Mean validation score: 0.995 (std: 0.00189)\n"
     ]
    },
    {
     "ename": "NotFittedError",
     "evalue": "This StandardScaler instance is not fitted yet. Call 'fit' with appropriate arguments before using this method.",
     "output_type": "error",
     "traceback": [
      "\u001b[0;31m---------------------------------------------------------------------------\u001b[0m",
      "\u001b[0;31mNotFittedError\u001b[0m                            Traceback (most recent call last)",
      "\u001b[0;32m<ipython-input-104-e64c8cdbb8b1>\u001b[0m in \u001b[0;36m<module>\u001b[0;34m\u001b[0m\n\u001b[1;32m     18\u001b[0m \u001b[0;34m\u001b[0m\u001b[0m\n\u001b[1;32m     19\u001b[0m \u001b[0mx_test\u001b[0m\u001b[0;34m,\u001b[0m \u001b[0my_test\u001b[0m \u001b[0;34m=\u001b[0m \u001b[0mfm_test\u001b[0m\u001b[0;34m,\u001b[0m \u001b[0mvald_y\u001b[0m\u001b[0;34m\u001b[0m\u001b[0;34m\u001b[0m\u001b[0m\n\u001b[0;32m---> 20\u001b[0;31m \u001b[0mac\u001b[0m \u001b[0;34m=\u001b[0m \u001b[0maccuracy_score\u001b[0m\u001b[0;34m(\u001b[0m\u001b[0my_test\u001b[0m\u001b[0;34m,\u001b[0m\u001b[0mclf\u001b[0m\u001b[0;34m.\u001b[0m\u001b[0mpredict\u001b[0m\u001b[0;34m(\u001b[0m\u001b[0mx_test\u001b[0m\u001b[0;34m)\u001b[0m\u001b[0;34m)\u001b[0m\u001b[0;34m\u001b[0m\u001b[0;34m\u001b[0m\u001b[0m\n\u001b[0m\u001b[1;32m     21\u001b[0m \u001b[0mprint\u001b[0m\u001b[0;34m(\u001b[0m\u001b[0;34m'Accuracy of test1 is: '\u001b[0m\u001b[0;34m,\u001b[0m \u001b[0mac\u001b[0m\u001b[0;34m)\u001b[0m\u001b[0;34m\u001b[0m\u001b[0;34m\u001b[0m\u001b[0m\n\u001b[1;32m     22\u001b[0m \u001b[0mcm\u001b[0m \u001b[0;34m=\u001b[0m \u001b[0mconfusion_matrix\u001b[0m\u001b[0;34m(\u001b[0m\u001b[0my_test\u001b[0m\u001b[0;34m,\u001b[0m\u001b[0mclf\u001b[0m\u001b[0;34m.\u001b[0m\u001b[0mpredict\u001b[0m\u001b[0;34m(\u001b[0m\u001b[0mx_test\u001b[0m\u001b[0;34m)\u001b[0m\u001b[0;34m)\u001b[0m\u001b[0;34m\u001b[0m\u001b[0;34m\u001b[0m\u001b[0m\n",
      "\u001b[0;32m~/miniconda3/lib/python3.7/site-packages/sklearn/utils/metaestimators.py\u001b[0m in \u001b[0;36m<lambda>\u001b[0;34m(*args, **kwargs)\u001b[0m\n\u001b[1;32m    116\u001b[0m \u001b[0;34m\u001b[0m\u001b[0m\n\u001b[1;32m    117\u001b[0m         \u001b[0;31m# lambda, but not partial, allows help() to work with update_wrapper\u001b[0m\u001b[0;34m\u001b[0m\u001b[0;34m\u001b[0m\u001b[0;34m\u001b[0m\u001b[0m\n\u001b[0;32m--> 118\u001b[0;31m         \u001b[0mout\u001b[0m \u001b[0;34m=\u001b[0m \u001b[0;32mlambda\u001b[0m \u001b[0;34m*\u001b[0m\u001b[0margs\u001b[0m\u001b[0;34m,\u001b[0m \u001b[0;34m**\u001b[0m\u001b[0mkwargs\u001b[0m\u001b[0;34m:\u001b[0m \u001b[0mself\u001b[0m\u001b[0;34m.\u001b[0m\u001b[0mfn\u001b[0m\u001b[0;34m(\u001b[0m\u001b[0mobj\u001b[0m\u001b[0;34m,\u001b[0m \u001b[0;34m*\u001b[0m\u001b[0margs\u001b[0m\u001b[0;34m,\u001b[0m \u001b[0;34m**\u001b[0m\u001b[0mkwargs\u001b[0m\u001b[0;34m)\u001b[0m\u001b[0;34m\u001b[0m\u001b[0;34m\u001b[0m\u001b[0m\n\u001b[0m\u001b[1;32m    119\u001b[0m         \u001b[0;31m# update the docstring of the returned function\u001b[0m\u001b[0;34m\u001b[0m\u001b[0;34m\u001b[0m\u001b[0;34m\u001b[0m\u001b[0m\n\u001b[1;32m    120\u001b[0m         \u001b[0mupdate_wrapper\u001b[0m\u001b[0;34m(\u001b[0m\u001b[0mout\u001b[0m\u001b[0;34m,\u001b[0m \u001b[0mself\u001b[0m\u001b[0;34m.\u001b[0m\u001b[0mfn\u001b[0m\u001b[0;34m)\u001b[0m\u001b[0;34m\u001b[0m\u001b[0;34m\u001b[0m\u001b[0m\n",
      "\u001b[0;32m~/miniconda3/lib/python3.7/site-packages/sklearn/pipeline.py\u001b[0m in \u001b[0;36mpredict\u001b[0;34m(self, X, **predict_params)\u001b[0m\n\u001b[1;32m    329\u001b[0m         \u001b[0;32mfor\u001b[0m \u001b[0mname\u001b[0m\u001b[0;34m,\u001b[0m \u001b[0mtransform\u001b[0m \u001b[0;32min\u001b[0m \u001b[0mself\u001b[0m\u001b[0;34m.\u001b[0m\u001b[0msteps\u001b[0m\u001b[0;34m[\u001b[0m\u001b[0;34m:\u001b[0m\u001b[0;34m-\u001b[0m\u001b[0;36m1\u001b[0m\u001b[0;34m]\u001b[0m\u001b[0;34m:\u001b[0m\u001b[0;34m\u001b[0m\u001b[0;34m\u001b[0m\u001b[0m\n\u001b[1;32m    330\u001b[0m             \u001b[0;32mif\u001b[0m \u001b[0mtransform\u001b[0m \u001b[0;32mis\u001b[0m \u001b[0;32mnot\u001b[0m \u001b[0;32mNone\u001b[0m\u001b[0;34m:\u001b[0m\u001b[0;34m\u001b[0m\u001b[0;34m\u001b[0m\u001b[0m\n\u001b[0;32m--> 331\u001b[0;31m                 \u001b[0mXt\u001b[0m \u001b[0;34m=\u001b[0m \u001b[0mtransform\u001b[0m\u001b[0;34m.\u001b[0m\u001b[0mtransform\u001b[0m\u001b[0;34m(\u001b[0m\u001b[0mXt\u001b[0m\u001b[0;34m)\u001b[0m\u001b[0;34m\u001b[0m\u001b[0;34m\u001b[0m\u001b[0m\n\u001b[0m\u001b[1;32m    332\u001b[0m         \u001b[0;32mreturn\u001b[0m \u001b[0mself\u001b[0m\u001b[0;34m.\u001b[0m\u001b[0msteps\u001b[0m\u001b[0;34m[\u001b[0m\u001b[0;34m-\u001b[0m\u001b[0;36m1\u001b[0m\u001b[0;34m]\u001b[0m\u001b[0;34m[\u001b[0m\u001b[0;34m-\u001b[0m\u001b[0;36m1\u001b[0m\u001b[0;34m]\u001b[0m\u001b[0;34m.\u001b[0m\u001b[0mpredict\u001b[0m\u001b[0;34m(\u001b[0m\u001b[0mXt\u001b[0m\u001b[0;34m,\u001b[0m \u001b[0;34m**\u001b[0m\u001b[0mpredict_params\u001b[0m\u001b[0;34m)\u001b[0m\u001b[0;34m\u001b[0m\u001b[0;34m\u001b[0m\u001b[0m\n\u001b[1;32m    333\u001b[0m \u001b[0;34m\u001b[0m\u001b[0m\n",
      "\u001b[0;32m~/miniconda3/lib/python3.7/site-packages/sklearn/preprocessing/data.py\u001b[0m in \u001b[0;36mtransform\u001b[0;34m(self, X, y, copy)\u001b[0m\n\u001b[1;32m    765\u001b[0m                           DeprecationWarning)\n\u001b[1;32m    766\u001b[0m \u001b[0;34m\u001b[0m\u001b[0m\n\u001b[0;32m--> 767\u001b[0;31m         \u001b[0mcheck_is_fitted\u001b[0m\u001b[0;34m(\u001b[0m\u001b[0mself\u001b[0m\u001b[0;34m,\u001b[0m \u001b[0;34m'scale_'\u001b[0m\u001b[0;34m)\u001b[0m\u001b[0;34m\u001b[0m\u001b[0;34m\u001b[0m\u001b[0m\n\u001b[0m\u001b[1;32m    768\u001b[0m \u001b[0;34m\u001b[0m\u001b[0m\n\u001b[1;32m    769\u001b[0m         \u001b[0mcopy\u001b[0m \u001b[0;34m=\u001b[0m \u001b[0mcopy\u001b[0m \u001b[0;32mif\u001b[0m \u001b[0mcopy\u001b[0m \u001b[0;32mis\u001b[0m \u001b[0;32mnot\u001b[0m \u001b[0;32mNone\u001b[0m \u001b[0;32melse\u001b[0m \u001b[0mself\u001b[0m\u001b[0;34m.\u001b[0m\u001b[0mcopy\u001b[0m\u001b[0;34m\u001b[0m\u001b[0;34m\u001b[0m\u001b[0m\n",
      "\u001b[0;32m~/miniconda3/lib/python3.7/site-packages/sklearn/utils/validation.py\u001b[0m in \u001b[0;36mcheck_is_fitted\u001b[0;34m(estimator, attributes, msg, all_or_any)\u001b[0m\n\u001b[1;32m    949\u001b[0m \u001b[0;34m\u001b[0m\u001b[0m\n\u001b[1;32m    950\u001b[0m     \u001b[0;32mif\u001b[0m \u001b[0;32mnot\u001b[0m \u001b[0mall_or_any\u001b[0m\u001b[0;34m(\u001b[0m\u001b[0;34m[\u001b[0m\u001b[0mhasattr\u001b[0m\u001b[0;34m(\u001b[0m\u001b[0mestimator\u001b[0m\u001b[0;34m,\u001b[0m \u001b[0mattr\u001b[0m\u001b[0;34m)\u001b[0m \u001b[0;32mfor\u001b[0m \u001b[0mattr\u001b[0m \u001b[0;32min\u001b[0m \u001b[0mattributes\u001b[0m\u001b[0;34m]\u001b[0m\u001b[0;34m)\u001b[0m\u001b[0;34m:\u001b[0m\u001b[0;34m\u001b[0m\u001b[0;34m\u001b[0m\u001b[0m\n\u001b[0;32m--> 951\u001b[0;31m         \u001b[0;32mraise\u001b[0m \u001b[0mNotFittedError\u001b[0m\u001b[0;34m(\u001b[0m\u001b[0mmsg\u001b[0m \u001b[0;34m%\u001b[0m \u001b[0;34m{\u001b[0m\u001b[0;34m'name'\u001b[0m\u001b[0;34m:\u001b[0m \u001b[0mtype\u001b[0m\u001b[0;34m(\u001b[0m\u001b[0mestimator\u001b[0m\u001b[0;34m)\u001b[0m\u001b[0;34m.\u001b[0m\u001b[0m__name__\u001b[0m\u001b[0;34m}\u001b[0m\u001b[0;34m)\u001b[0m\u001b[0;34m\u001b[0m\u001b[0;34m\u001b[0m\u001b[0m\n\u001b[0m\u001b[1;32m    952\u001b[0m \u001b[0;34m\u001b[0m\u001b[0m\n\u001b[1;32m    953\u001b[0m \u001b[0;34m\u001b[0m\u001b[0m\n",
      "\u001b[0;31mNotFittedError\u001b[0m: This StandardScaler instance is not fitted yet. Call 'fit' with appropriate arguments before using this method."
     ]
    }
   ],
   "source": [
    "from sklearn.pipeline import Pipeline\n",
    "from sklearn.model_selection import StratifiedKFold\n",
    "from sklearn.svm import LinearSVC\n",
    "from sklearn.ensemble import RandomForestClassifier\n",
    "from sklearn.metrics import confusion_matrix,accuracy_score,f1_score\n",
    "from sklearn.feature_selection import SelectFromModel,SelectKBest,chi2,mutual_info_classif\n",
    "from functools import partial\n",
    "from sklearn.model_selection import cross_val_score\n",
    "\n",
    "cv = StratifiedKFold(n_splits = 10, shuffle=True)\n",
    "clf = Pipeline([\n",
    "        ('scale', preprocessing.StandardScaler()),\n",
    "        ('feature_selection', SelectFromModel(LinearSVC(C=0.1,penalty=\"l1\",dual=False))),\n",
    "        ('classification', RandomForestClassifier())\n",
    "    ])\n",
    "score = cross_val_score(clf, fm_train, data_y, cv=cv)\n",
    "print(\"Mean validation score: {0:.3f} (std: {1:.5f})\".format(np.mean(score),np.std(score)))\n",
    "\n",
    "x_test, y_test = fm_test, vald_y\n",
    "ac = accuracy_score(y_test,clf.predict(x_test))\n",
    "print('Accuracy of test1 is: ', ac)\n",
    "cm = confusion_matrix(y_test,clf.predict(x_test))\n",
    "sns.heatmap(cm, annot=True, fmt=\"d\")\n",
    "\n",
    "plt.figure()\n",
    "x_test, y_test = fm_test2, test_y\n",
    "ac = accuracy_score(y_test,clf.predict(x_test))\n",
    "print('Accuracy of test2 is: ', ac)\n",
    "cm = confusion_matrix(y_test,clf.predict(x_test))\n",
    "sns.heatmap(cm, annot=True, fmt=\"d\")"
   ]
  },
  {
   "cell_type": "markdown",
   "metadata": {},
   "source": [
    "Part IIb: RF Pipeline with K-Best Mutual Info Feature Selection"
   ]
  },
  {
   "cell_type": "code",
   "execution_count": 100,
   "metadata": {},
   "outputs": [
    {
     "name": "stdout",
     "output_type": "stream",
     "text": [
      "Accuracy is:  0.8698728465955702\n",
      "Accuracy is:  0.7898892534864643\n",
      "Accuracy is:  0.9086341263330598\n",
      "Accuracy is:  0.6173092698933552\n",
      "Accuracy is:  0.907608695652174\n",
      "Accuracy is:  0.9061730926989335\n",
      "Accuracy is:  0.8054757998359311\n",
      "Accuracy is:  0.6954470877768663\n",
      "Accuracy is:  0.8114232977850697\n",
      "Accuracy is:  0.8311115668580804\n",
      "Accuracy of test1 is:  0.8971857410881802\n",
      "Accuracy of test2 is:  0.9769278096800657\n"
     ]
    },
    {
     "data": {
      "text/plain": [
       "<matplotlib.axes._subplots.AxesSubplot at 0x7fc301cd1898>"
      ]
     },
     "execution_count": 100,
     "metadata": {},
     "output_type": "execute_result"
    },
    {
     "data": {
      "image/png": "[encoded data removed]",
      "text/plain": [
       "<Figure size 432x288 with 2 Axes>"
      ]
     },
     "metadata": {
      "needs_background": "light"
     },
     "output_type": "display_data"
    }
   ],
   "source": [
    "fm_train = pd.DataFrame(stdscaler.fit_transform(fm_train), columns=fm_train.columns)\n",
    "fm_test = pd.DataFrame(stdscaler.fit_transform(fm_test), columns=fm_train.columns)\n",
    "fm_test2 = pd.DataFrame(stdscaler.fit_transform(fm_test2), columns=fm_train.columns)\n",
    "\n",
    "for train, test in skf.split(fm_train, data_y):\n",
    "    x_train, y_train = fm_train.iloc[train], data_y.iloc[train]\n",
    "    # find best scored features\n",
    "    select_feature = SelectKBest(score_func=mutual_info_classif, k=12).fit(x_train,y_train)\n",
    "    #print('Score list:', select_feature.scores_)\n",
    "    #print('Feature list:', x_train.columns)\n",
    "    x_train_2 = select_feature.transform(x_train)\n",
    "    x_test_2 = select_feature.transform(x_test)\n",
    "    #random forest classifier with n_estimators=10 (default)\n",
    "    clf_rf_2 = RandomForestClassifier()      \n",
    "    clr_rf_2 = clf_rf_2.fit(x_train_2,y_train)\n",
    "    ac_2 = accuracy_score(y_test,clf_rf_2.predict(x_test_2))\n",
    "    print('Accuracy is: ',ac_2)\n",
    "    \n",
    "x_test, y_test = fm_test, vald_y\n",
    "x_test = select_feature.transform(x_test)\n",
    "ac = accuracy_score(y_test,clf_rf_2.predict(x_test))\n",
    "print('Accuracy of test1 is: ', ac)\n",
    "\n",
    "x_test, y_test = fm_test2, test_y\n",
    "x_test = select_feature.transform(x_test)\n",
    "ac = accuracy_score(y_test,clf_rf_2.predict(x_test))\n",
    "print('Accuracy of test2 is: ', ac)\n",
    "cm = confusion_matrix(y_test, clf_rf_2.predict(x_test))\n",
    "sns.heatmap(cm, annot=True, fmt=\"d\")"
   ]
  },
  {
   "cell_type": "markdown",
   "metadata": {},
   "source": [
    "%99 accuracy is easily matched with RF methods, however, in the literature we have seen less varianced accuracies with other ML methods. Let's save the dataframes here and search for a better approach with autoML (TPOT), semi-autoML with hyperparameter search. "
   ]
  },
  {
   "cell_type": "code",
   "execution_count": null,
   "metadata": {},
   "outputs": [],
   "source": []
  }
 ],
 "metadata": {
  "kernelspec": {
   "display_name": "Python 3",
   "language": "python",
   "name": "python3"
  },
  "language_info": {
   "codemirror_mode": {
    "name": "ipython",
    "version": 3
   },
   "file_extension": ".py",
   "mimetype": "text/x-python",
   "name": "python",
   "nbconvert_exporter": "python",
   "pygments_lexer": "ipython3",
   "version": "3.7.1"
  }
 },
 "nbformat": 4,
 "nbformat_minor": 2
}
